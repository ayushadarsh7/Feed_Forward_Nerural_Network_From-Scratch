{
  "nbformat": 4,
  "nbformat_minor": 0,
  "metadata": {
    "colab": {
      "provenance": []
    },
    "kernelspec": {
      "name": "python3",
      "display_name": "Python 3"
    },
    "language_info": {
      "name": "python"
    }
  },
  "cells": [
    {
      "cell_type": "code",
      "execution_count": 1,
      "metadata": {
        "id": "yYF8PinHHIwO"
      },
      "outputs": [],
      "source": [
        "import numpy as np"
      ]
    },
    {
      "cell_type": "code",
      "source": [
        "def activation(x,type):\n",
        "\n",
        "  if type == 'sigmoid':\n",
        "    return 1/(1 + np.exp(-x))\n",
        "\n",
        "  elif type == 'tanh':\n",
        "    return (np.exp(x) - np.exp(-x))/(np.exp(x) + np.exp(-x))\n",
        "\n",
        "  elif type == 'ReLU':\n",
        "    return np.maximum(0,x)"
      ],
      "metadata": {
        "id": "Wp_qiyB5Hh0W"
      },
      "execution_count": 2,
      "outputs": []
    },
    {
      "cell_type": "code",
      "source": [
        "import numpy as np\n",
        "\n",
        "def softmax(x):\n",
        "    e_x = np.exp(x - np.max(x))\n",
        "    return e_x / e_x.sum(axis=0)"
      ],
      "metadata": {
        "id": "MnfK3ozFZMKC"
      },
      "execution_count": 3,
      "outputs": []
    },
    {
      "cell_type": "code",
      "source": [
        "x = np.array([1, 2, 3, 4])\n",
        "x = np.reshape(x,(4,1))\n",
        "print(softmax(x))"
      ],
      "metadata": {
        "colab": {
          "base_uri": "https://localhost:8080/"
        },
        "id": "1FvWWN74eXSU",
        "outputId": "ec903fc1-e513-4358-feac-67e3f48142bf"
      },
      "execution_count": 4,
      "outputs": [
        {
          "output_type": "stream",
          "name": "stdout",
          "text": [
            "[[0.0320586 ]\n",
            " [0.08714432]\n",
            " [0.23688282]\n",
            " [0.64391426]]\n"
          ]
        }
      ]
    },
    {
      "cell_type": "code",
      "source": [
        "class Neural_Network():\n",
        "\n",
        "\n",
        "  #INITIALISING FUNCTION\n",
        "  def __init__(self,input_nodes,layers,output_nodes):\n",
        "    self.input_nodes = input_nodes  #dimension of the input vector\n",
        "    self.layers = layers   #number of layers that we want in netork\n",
        "    self.output_nodes = output_nodes  #number of output classes\n",
        "\n",
        "    #convert to small_named variables for comfort\n",
        "    self.n = self.input_nodes\n",
        "    self.L = self.layers\n",
        "    self.k = self.output_nodes\n",
        "\n",
        "    self.W = []  # W will be a list of matrices of size nxn\n",
        "    self.B = []  # B will be a list of matrices of size 1xn\n",
        "\n",
        "    #weights & biases initialisation for layers 1 to L-1\n",
        "    for i in range(0, self.L-1):\n",
        "        W_i = np.random.rand(self.n, self.n)/np.sqrt(self.n) # creates nxn matrix\n",
        "        B_i = np.random.rand(1, self.n)  # creates 1xn matrix\n",
        "        self.W.append(W_i)\n",
        "        self.B.append(B_i)\n",
        "\n",
        "    #weights & biases initialisation for last layer\n",
        "    W_i = np.random.rand(self.n,self.k)/np.sqrt(self.n) # creates nxk matrix\n",
        "    B_i = np.random.rand(1,self.k) # creates 1xk matrix\n",
        "    self.W.append(W_i)\n",
        "    self.B.append(B_i)\n",
        "\n",
        "  #FORWARD PROPAGATION THROUGH THE LAYERS\n",
        "  def forward(self,X):\n",
        "    Y_hat = []\n",
        "    # Initialize lists A and H dynamically based on the value of L\n",
        "    A = [[] for _ in range(self.layers)]\n",
        "    H = [[] for _ in range(self.layers)]\n",
        "\n",
        "    for x in X:\n",
        "\n",
        "\n",
        "      #input layer\n",
        "      a0 = np.dot(self.W[0],x.T)  + self.B[0].T   #a1 = W1.x + b1\n",
        "      A[0].append(a0)\n",
        "      h0 = activation(a0,type='sigmoid')  #h1 = activation(a1)\n",
        "      H[0].append(h0)\n",
        "\n",
        "      #middle layers\n",
        "      for i in range(1,self.L-1):\n",
        "          # Access the value in H[i-1] corresponding to the current x\n",
        "          h_prev = H[i - 1][-1]  # Get the last element added to H[i-1]\n",
        "          a = np.dot(self.W[i], h_prev) + self.B[i].T  # a = Wi.h(i-1) + Bi\n",
        "          A[i].append(a)\n",
        "          h = activation(a, type='sigmoid')\n",
        "          H[i].append(h)\n",
        "\n",
        "      #output layer\n",
        "      a_L = np.dot(self.W[self.L-1].T,H[self.L-2][-1]) + self.B[self.L-1].T\n",
        "      A[self.L-1].append(a_L)\n",
        "      y_hat = softmax(a_L)\n",
        "      Y_hat.append(y_hat)\n",
        "\n",
        "    return Y_hat, A, H    #each y_hat is a kx1 matrix\n",
        "\n",
        "\n",
        "\n",
        "  #BACKPROPAGATION THROUGH THE LAYERS\n",
        "  def backward(self,X,Y,lr,max_iter):\n",
        "\n",
        "    for i in range(max_iter):\n",
        "      print(f\"Iteration: {i}\")\n",
        "      dW = []\n",
        "      dB = []\n",
        "      dA = [[] for _ in range(self.layers)]\n",
        "      dH = [[] for _ in range(self.layers)]\n",
        "\n",
        "      for i in range(0, self.L-1):\n",
        "        dW_i = np.zeros((self.n, self.n))  # creates nxn matrix\n",
        "        dB_i = np.zeros((1, self.n))  # creates 1xn matrix\n",
        "        dW.append(dW_i)\n",
        "        dB.append(dB_i)\n",
        "\n",
        "      dW_i = np.zeros((self.n, self.k))  # creates nxk matrix for last layer\n",
        "      dB_i = np.zeros((1, self.k))  # creates 1xk matrix for last layer\n",
        "      dW.append(dW_i)\n",
        "      dB.append(dB_i)\n",
        "\n",
        "      Y_hat, A, H  = self.forward(X)\n",
        "\n",
        "      for x, y, y_hat in zip(X, Y, Y_hat):\n",
        "\n",
        "        #backpropagate through output layer\n",
        "        grad_A_L_minus_1 = (y_hat - y)\n",
        "        dA[self.L-1].append(grad_A_L_minus_1)\n",
        "\n",
        "        #backpropagate through middle layers\n",
        "        for j in range(self.L-1, 0, -1):\n",
        "          # dw = np.dot(dA[j][-1], H[j-1][-1].T)\n",
        "          # dw = np.dot(dA[j][-1], H[j-1][-1])\n",
        "          dw = np.dot(H[j-1][-1],dA[j][-1].T)\n",
        "          dW[j] += dw\n",
        "          dB[j] += dA[j][-1].T\n",
        "          grad_H_j_minus_1 = np.dot(self.W[j], dA[j][-1])\n",
        "          dH[j-1].append(grad_H_j_minus_1)\n",
        "          grad_A_j_minus_1 = grad_H_j_minus_1 * (activation(A[j-1][-1], type='sigmoid') * (1 - activation(A[j-1][-1], type='sigmoid')))\n",
        "          dA[j-1].append(grad_A_j_minus_1)\n",
        "\n",
        "        #backpropagate through input layer\n",
        "        dw = np.dot(grad_A_j_minus_1, x)\n",
        "        dW[0] += dw\n",
        "        dB[0] += grad_A_j_minus_1.T\n",
        "\n",
        "      #update the weights and biases\n",
        "      for j in range(self.L):\n",
        "        self.W[j] -= lr * dW[j]\n",
        "        self.B[j] -= lr * dB[j]\n",
        "\n",
        "    return self.W,self.B\n",
        "\n",
        ""
      ],
      "metadata": {
        "id": "3tmWUGsi0xba"
      },
      "execution_count": 5,
      "outputs": []
    },
    {
      "cell_type": "code",
      "source": [
        "model = Neural_Network(5, 3, 4)"
      ],
      "metadata": {
        "id": "7v48UQnCeWNk"
      },
      "execution_count": 6,
      "outputs": []
    },
    {
      "cell_type": "code",
      "source": [
        "for w in model.W:\n",
        "  print(w.shape)"
      ],
      "metadata": {
        "colab": {
          "base_uri": "https://localhost:8080/"
        },
        "id": "rFZfkZSCjztA",
        "outputId": "60581609-d272-4c7d-affb-73ade916e57c"
      },
      "execution_count": 7,
      "outputs": [
        {
          "output_type": "stream",
          "name": "stdout",
          "text": [
            "(5, 5)\n",
            "(5, 5)\n",
            "(5, 4)\n"
          ]
        }
      ]
    },
    {
      "cell_type": "code",
      "source": [
        "for b in model.B:\n",
        "  print(b.shape)"
      ],
      "metadata": {
        "colab": {
          "base_uri": "https://localhost:8080/"
        },
        "id": "015VgiOAkIr9",
        "outputId": "5ed32f62-7b55-494b-b5dd-46bd90e986e4"
      },
      "execution_count": 8,
      "outputs": [
        {
          "output_type": "stream",
          "name": "stdout",
          "text": [
            "(1, 5)\n",
            "(1, 5)\n",
            "(1, 4)\n"
          ]
        }
      ]
    },
    {
      "cell_type": "code",
      "source": [
        "# Define the dimensions\n",
        "m = 10  # number of data points\n",
        "n = 5   # dimension of input vectors\n",
        "k = 4   # dimension of output vectors\n",
        "\n",
        "# Prepare X list with random values\n",
        "X = [np.random.rand(1, n) for _ in range(m)]  # Change this line\n",
        "\n",
        "# Prepare Y list with one-hot encoding\n",
        "Y = []\n",
        "for _ in range(m):\n",
        "    y = np.zeros((k, 1))  # Change this line\n",
        "    index = np.random.randint(0, k)\n",
        "    y[index, 0] = 1\n",
        "    Y.append(y)\n",
        "\n"
      ],
      "metadata": {
        "id": "FUUOVB7rZuqM"
      },
      "execution_count": 9,
      "outputs": []
    },
    {
      "cell_type": "code",
      "source": [
        "for x in X:\n",
        "  print(x.shape)"
      ],
      "metadata": {
        "colab": {
          "base_uri": "https://localhost:8080/"
        },
        "id": "2pk1VhoRfFgD",
        "outputId": "20ba3774-9e38-47cb-dbe4-89a4362d6b83"
      },
      "execution_count": 10,
      "outputs": [
        {
          "output_type": "stream",
          "name": "stdout",
          "text": [
            "(1, 5)\n",
            "(1, 5)\n",
            "(1, 5)\n",
            "(1, 5)\n",
            "(1, 5)\n",
            "(1, 5)\n",
            "(1, 5)\n",
            "(1, 5)\n",
            "(1, 5)\n",
            "(1, 5)\n"
          ]
        }
      ]
    },
    {
      "cell_type": "code",
      "source": [
        "for y in Y:\n",
        "  print(y.shape)"
      ],
      "metadata": {
        "colab": {
          "base_uri": "https://localhost:8080/"
        },
        "id": "OJi5ZVovfKNi",
        "outputId": "01008bef-952b-44ee-f124-07ad20792145"
      },
      "execution_count": 11,
      "outputs": [
        {
          "output_type": "stream",
          "name": "stdout",
          "text": [
            "(4, 1)\n",
            "(4, 1)\n",
            "(4, 1)\n",
            "(4, 1)\n",
            "(4, 1)\n",
            "(4, 1)\n",
            "(4, 1)\n",
            "(4, 1)\n",
            "(4, 1)\n",
            "(4, 1)\n"
          ]
        }
      ]
    },
    {
      "cell_type": "code",
      "source": [
        "# Print X and Y for verification\n",
        "print(\"X:\")\n",
        "for x in X:\n",
        "    print(x)\n",
        "\n",
        "print(\"\\nY:\")\n",
        "for y in Y:\n",
        "    print(y)"
      ],
      "metadata": {
        "colab": {
          "base_uri": "https://localhost:8080/"
        },
        "id": "wW-LRB5_Z1Jt",
        "outputId": "a7556204-7935-4ce6-b42a-f27dcc63b2e6"
      },
      "execution_count": 12,
      "outputs": [
        {
          "output_type": "stream",
          "name": "stdout",
          "text": [
            "X:\n",
            "[[0.83540027 0.98790886 0.35249253 0.52903989 0.26622984]]\n",
            "[[0.65888177 0.6920244  0.67041196 0.60053716 0.17148742]]\n",
            "[[0.1765761  0.54905878 0.35372272 0.293912   0.56889457]]\n",
            "[[0.13615811 0.17715232 0.78572611 0.11217067 0.76849085]]\n",
            "[[0.66534995 0.87819419 0.57387038 0.45826797 0.17966043]]\n",
            "[[0.43590001 0.38706228 0.01796358 0.46848686 0.35800629]]\n",
            "[[0.4265563  0.66600119 0.09332317 0.48203121 0.02181804]]\n",
            "[[0.63559331 0.82699398 0.92358515 0.17818485 0.83126402]]\n",
            "[[0.13081486 0.30320537 0.9574772  0.66262477 0.90789369]]\n",
            "[[0.65900853 0.13923932 0.77301342 0.99977872 0.54865561]]\n",
            "\n",
            "Y:\n",
            "[[1.]\n",
            " [0.]\n",
            " [0.]\n",
            " [0.]]\n",
            "[[0.]\n",
            " [0.]\n",
            " [0.]\n",
            " [1.]]\n",
            "[[0.]\n",
            " [0.]\n",
            " [0.]\n",
            " [1.]]\n",
            "[[0.]\n",
            " [1.]\n",
            " [0.]\n",
            " [0.]]\n",
            "[[0.]\n",
            " [0.]\n",
            " [0.]\n",
            " [1.]]\n",
            "[[0.]\n",
            " [0.]\n",
            " [0.]\n",
            " [1.]]\n",
            "[[0.]\n",
            " [1.]\n",
            " [0.]\n",
            " [0.]]\n",
            "[[0.]\n",
            " [0.]\n",
            " [0.]\n",
            " [1.]]\n",
            "[[1.]\n",
            " [0.]\n",
            " [0.]\n",
            " [0.]]\n",
            "[[0.]\n",
            " [1.]\n",
            " [0.]\n",
            " [0.]]\n"
          ]
        }
      ]
    },
    {
      "cell_type": "code",
      "source": [
        "Y_pred, A1, H1 = model.forward(X)\n",
        "print(\"Y_pred:\")\n",
        "for y_pred in Y_pred:\n",
        "    print(y_pred)"
      ],
      "metadata": {
        "colab": {
          "base_uri": "https://localhost:8080/"
        },
        "id": "Hb77raLibNJu",
        "outputId": "273b0d72-9311-4ad4-bc1f-d8f5ce51bf24"
      },
      "execution_count": 13,
      "outputs": [
        {
          "output_type": "stream",
          "name": "stdout",
          "text": [
            "Y_pred:\n",
            "[[0.24790788]\n",
            " [0.20198106]\n",
            " [0.23489555]\n",
            " [0.3152155 ]]\n",
            "[[0.24787174]\n",
            " [0.20200263]\n",
            " [0.23491931]\n",
            " [0.31520632]]\n",
            "[[0.24803052]\n",
            " [0.20213385]\n",
            " [0.23462348]\n",
            " [0.31521215]]\n",
            "[[0.24787193]\n",
            " [0.20217422]\n",
            " [0.23481256]\n",
            " [0.31514129]]\n",
            "[[0.24789646]\n",
            " [0.20200246]\n",
            " [0.23488936]\n",
            " [0.31521172]]\n",
            "[[0.24824686]\n",
            " [0.20214184]\n",
            " [0.23430712]\n",
            " [0.31530419]]\n",
            "[[0.24827781]\n",
            " [0.202094  ]\n",
            " [0.23428774]\n",
            " [0.31534045]]\n",
            "[[0.24758216]\n",
            " [0.20201491]\n",
            " [0.23533756]\n",
            " [0.31506537]]\n",
            "[[0.24763764]\n",
            " [0.20206397]\n",
            " [0.23522332]\n",
            " [0.31507508]]\n",
            "[[0.24774453]\n",
            " [0.20201481]\n",
            " [0.23509262]\n",
            " [0.31514804]]\n"
          ]
        }
      ]
    },
    {
      "cell_type": "code",
      "source": [
        "# Convert Y and Y_hat from lists to numpy arrays\n",
        "Y = np.array(Y)\n",
        "Y_hat = np.array(Y_pred)\n",
        "\n",
        "# Compute the loss using -Y * log(Y_hat)\n",
        "loss = -Y * np.log(Y_hat)\n",
        "\n",
        "# Calculate the mean loss\n",
        "mean_loss = np.mean(loss)\n",
        "\n",
        "print(\"Mean loss:\", mean_loss)"
      ],
      "metadata": {
        "colab": {
          "base_uri": "https://localhost:8080/"
        },
        "id": "MhigLEUB8omB",
        "outputId": "4c664bc8-9a8c-49e6-96ce-ab116340ab87"
      },
      "execution_count": 14,
      "outputs": [
        {
          "output_type": "stream",
          "name": "stdout",
          "text": [
            "Mean loss: 0.33400723427829193\n"
          ]
        }
      ]
    },
    {
      "cell_type": "code",
      "source": [
        "for y_pred in Y_pred:\n",
        "  print(np.sum(y_pred))"
      ],
      "metadata": {
        "colab": {
          "base_uri": "https://localhost:8080/"
        },
        "id": "UVM5Et2tlrDW",
        "outputId": "3d13a0ef-be81-4c3e-9352-d309d745fada"
      },
      "execution_count": 15,
      "outputs": [
        {
          "output_type": "stream",
          "name": "stdout",
          "text": [
            "1.0\n",
            "1.0\n",
            "1.0\n",
            "1.0\n",
            "0.9999999999999999\n",
            "1.0\n",
            "1.0\n",
            "1.0\n",
            "0.9999999999999999\n",
            "1.0\n"
          ]
        }
      ]
    },
    {
      "cell_type": "code",
      "source": [
        "for i in model.W:\n",
        "  print(i.shape)"
      ],
      "metadata": {
        "colab": {
          "base_uri": "https://localhost:8080/"
        },
        "id": "vK3WlJTKzvxk",
        "outputId": "6000ea1d-3fb2-45d3-84ec-d1f965c41841"
      },
      "execution_count": 16,
      "outputs": [
        {
          "output_type": "stream",
          "name": "stdout",
          "text": [
            "(5, 5)\n",
            "(5, 5)\n",
            "(5, 4)\n"
          ]
        }
      ]
    },
    {
      "cell_type": "code",
      "source": [
        "for i in model.B:\n",
        "  print(i.shape)"
      ],
      "metadata": {
        "colab": {
          "base_uri": "https://localhost:8080/"
        },
        "id": "UsiARu9l3oly",
        "outputId": "9adf7ba5-fe09-4cf0-d53b-281471a5e237"
      },
      "execution_count": 17,
      "outputs": [
        {
          "output_type": "stream",
          "name": "stdout",
          "text": [
            "(1, 5)\n",
            "(1, 5)\n",
            "(1, 4)\n"
          ]
        }
      ]
    },
    {
      "cell_type": "code",
      "source": [
        "lr = 0.01\n",
        "max_iter = 100\n",
        "model.backward(X,Y,lr,max_iter)"
      ],
      "metadata": {
        "colab": {
          "base_uri": "https://localhost:8080/"
        },
        "id": "LAoAG8wQ3q3m",
        "outputId": "d07d1727-cbbe-479c-ef34-c66190b13f52"
      },
      "execution_count": 22,
      "outputs": [
        {
          "output_type": "stream",
          "name": "stdout",
          "text": [
            "Iteration: 0\n",
            "Iteration: 1\n",
            "Iteration: 2\n",
            "Iteration: 3\n",
            "Iteration: 4\n",
            "Iteration: 5\n",
            "Iteration: 6\n",
            "Iteration: 7\n",
            "Iteration: 8\n",
            "Iteration: 9\n",
            "Iteration: 10\n",
            "Iteration: 11\n",
            "Iteration: 12\n",
            "Iteration: 13\n",
            "Iteration: 14\n",
            "Iteration: 15\n",
            "Iteration: 16\n",
            "Iteration: 17\n",
            "Iteration: 18\n",
            "Iteration: 19\n",
            "Iteration: 20\n",
            "Iteration: 21\n",
            "Iteration: 22\n",
            "Iteration: 23\n",
            "Iteration: 24\n",
            "Iteration: 25\n",
            "Iteration: 26\n",
            "Iteration: 27\n",
            "Iteration: 28\n",
            "Iteration: 29\n",
            "Iteration: 30\n",
            "Iteration: 31\n",
            "Iteration: 32\n",
            "Iteration: 33\n",
            "Iteration: 34\n",
            "Iteration: 35\n",
            "Iteration: 36\n",
            "Iteration: 37\n",
            "Iteration: 38\n",
            "Iteration: 39\n",
            "Iteration: 40\n",
            "Iteration: 41\n",
            "Iteration: 42\n",
            "Iteration: 43\n",
            "Iteration: 44\n",
            "Iteration: 45\n",
            "Iteration: 46\n",
            "Iteration: 47\n",
            "Iteration: 48\n",
            "Iteration: 49\n",
            "Iteration: 50\n",
            "Iteration: 51\n",
            "Iteration: 52\n",
            "Iteration: 53\n",
            "Iteration: 54\n",
            "Iteration: 55\n",
            "Iteration: 56\n",
            "Iteration: 57\n",
            "Iteration: 58\n",
            "Iteration: 59\n",
            "Iteration: 60\n",
            "Iteration: 61\n",
            "Iteration: 62\n",
            "Iteration: 63\n",
            "Iteration: 64\n",
            "Iteration: 65\n",
            "Iteration: 66\n",
            "Iteration: 67\n",
            "Iteration: 68\n",
            "Iteration: 69\n",
            "Iteration: 70\n",
            "Iteration: 71\n",
            "Iteration: 72\n",
            "Iteration: 73\n",
            "Iteration: 74\n",
            "Iteration: 75\n",
            "Iteration: 76\n",
            "Iteration: 77\n",
            "Iteration: 78\n",
            "Iteration: 79\n",
            "Iteration: 80\n",
            "Iteration: 81\n",
            "Iteration: 82\n",
            "Iteration: 83\n",
            "Iteration: 84\n",
            "Iteration: 85\n",
            "Iteration: 86\n",
            "Iteration: 87\n",
            "Iteration: 88\n",
            "Iteration: 89\n",
            "Iteration: 90\n",
            "Iteration: 91\n",
            "Iteration: 92\n",
            "Iteration: 93\n",
            "Iteration: 94\n",
            "Iteration: 95\n",
            "Iteration: 96\n",
            "Iteration: 97\n",
            "Iteration: 98\n",
            "Iteration: 99\n"
          ]
        },
        {
          "output_type": "execute_result",
          "data": {
            "text/plain": [
              "([array([[0.39540001, 0.28638299, 0.37015259, 0.17353702, 0.28080354],\n",
              "         [0.03157553, 0.03968496, 0.19541294, 0.31352642, 0.23864056],\n",
              "         [0.07633042, 0.3314542 , 0.25604676, 0.38146242, 0.1382166 ],\n",
              "         [0.09454837, 0.16324795, 0.41935755, 0.01732612, 0.32372174],\n",
              "         [0.07765604, 0.28472473, 0.13219726, 0.02414974, 0.44348914]]),\n",
              "  array([[0.0296419 , 0.3166244 , 0.04556888, 0.41921947, 0.0976139 ],\n",
              "         [0.17843047, 0.27801242, 0.39837184, 0.33284873, 0.23595605],\n",
              "         [0.27629108, 0.09276567, 0.42218493, 0.34138581, 0.03001548],\n",
              "         [0.08027111, 0.4662519 , 0.37524392, 0.0836895 , 0.33887921],\n",
              "         [0.11584244, 0.3602577 , 0.41393688, 0.2831725 , 0.13403562]]),\n",
              "  array([[ 0.12629952,  0.62337349, -0.12584381,  0.37727448],\n",
              "         [ 0.30026364,  0.42367905, -0.32811272,  0.30126615],\n",
              "         [ 0.17951591,  0.25449799, -0.12080963,  0.43166108],\n",
              "         [ 0.22550803,  0.31864396, -0.40051052,  0.35284575],\n",
              "         [ 0.26331982,  0.27377844, -0.43733559,  0.43720393]])],\n",
              " [array([[0.31634081, 0.96489691, 0.9522682 , 0.30828731, 0.87686219]]),\n",
              "  array([[0.72985783, 0.10421458, 0.10104359, 0.39065133, 0.44799057]]),\n",
              "  array([[ 0.83590907,  0.6135349 , -0.34513977,  1.13047277]])])"
            ]
          },
          "metadata": {},
          "execution_count": 22
        }
      ]
    },
    {
      "cell_type": "code",
      "source": [
        "pred,A1,H1 = model.forward(X)"
      ],
      "metadata": {
        "id": "P6kET6iW3-Ih"
      },
      "execution_count": 23,
      "outputs": []
    },
    {
      "cell_type": "code",
      "source": [
        "print(pred)"
      ],
      "metadata": {
        "colab": {
          "base_uri": "https://localhost:8080/"
        },
        "id": "Xx2ODeLD9IS9",
        "outputId": "63665540-e96b-4227-f2f6-9071ee994374"
      },
      "execution_count": 24,
      "outputs": [
        {
          "output_type": "stream",
          "name": "stdout",
          "text": [
            "[array([[0.19699723],\n",
            "       [0.2972117 ],\n",
            "       [0.00830176],\n",
            "       [0.49748932]]), array([[0.19697306],\n",
            "       [0.2972438 ],\n",
            "       [0.00830229],\n",
            "       [0.49748086]]), array([[0.19746006],\n",
            "       [0.29718606],\n",
            "       [0.00841792],\n",
            "       [0.49693596]]), array([[0.19715333],\n",
            "       [0.29736897],\n",
            "       [0.00836041],\n",
            "       [0.4971173 ]]), array([[0.1970311 ],\n",
            "       [0.29722047],\n",
            "       [0.00831466],\n",
            "       [0.49743377]]), array([[0.19803234],\n",
            "       [0.29693955],\n",
            "       [0.00854568],\n",
            "       [0.49648243]]), array([[0.19809738],\n",
            "       [0.29685357],\n",
            "       [0.00855771],\n",
            "       [0.49649134]]), array([[0.19621605],\n",
            "       [0.29759881],\n",
            "       [0.00813934],\n",
            "       [0.4980458 ]]), array([[0.19635626],\n",
            "       [0.29758764],\n",
            "       [0.00816907],\n",
            "       [0.49788702]]), array([[0.19660992],\n",
            "       [0.29741435],\n",
            "       [0.00822067],\n",
            "       [0.49775506]])]\n"
          ]
        }
      ]
    },
    {
      "cell_type": "code",
      "source": [
        "# Convert Y and Y_hat from lists to numpy arrays\n",
        "Y = np.array(Y)\n",
        "pred = np.array(pred)\n",
        "\n",
        "# Compute the loss using -Y * log(Y_hat)\n",
        "loss = -Y * np.log(pred)\n",
        "\n",
        "# Calculate the mean loss\n",
        "mean_loss = np.mean(loss)\n",
        "\n",
        "print(\"Mean loss:\", mean_loss)"
      ],
      "metadata": {
        "colab": {
          "base_uri": "https://localhost:8080/"
        },
        "id": "RC1zbfzQ8EwS",
        "outputId": "dcb2f64f-15cf-4ef5-fdb3-f88c72b75d20"
      },
      "execution_count": 25,
      "outputs": [
        {
          "output_type": "stream",
          "name": "stdout",
          "text": [
            "Mean loss: 0.25963431799549147\n"
          ]
        }
      ]
    },
    {
      "cell_type": "code",
      "source": [],
      "metadata": {
        "id": "r17kleXj9DXR"
      },
      "execution_count": null,
      "outputs": []
    }
  ]
}