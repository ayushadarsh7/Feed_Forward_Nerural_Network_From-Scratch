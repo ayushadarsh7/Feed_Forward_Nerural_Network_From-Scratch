{
  "nbformat": 4,
  "nbformat_minor": 0,
  "metadata": {
    "colab": {
      "provenance": []
    },
    "kernelspec": {
      "name": "python3",
      "display_name": "Python 3"
    },
    "language_info": {
      "name": "python"
    }
  },
  "cells": [
    {
      "cell_type": "code",
      "execution_count": 66,
      "metadata": {
        "id": "yYF8PinHHIwO"
      },
      "outputs": [],
      "source": [
        "import numpy as np\n",
        "import matplotlib.pyplot as plt"
      ]
    },
    {
      "cell_type": "code",
      "source": [
        "def activation(x, type, derivative=False):\n",
        "\n",
        "  if type == 'sigmoid':\n",
        "    if derivative:\n",
        "      sig = 1 / (1 + np.exp(-x))\n",
        "      return sig * (1 - sig)\n",
        "    return 1 / (1 + np.exp(-x))\n",
        "\n",
        "  elif type == 'tanh':\n",
        "      if derivative:\n",
        "        tanh = (np.exp(x) - np.exp(-x)) / (np.exp(x) + np.exp(-x))\n",
        "        return 1 - tanh**2\n",
        "      return (np.exp(x) - np.exp(-x)) / (np.exp(x) + np.exp(-x))\n",
        "\n",
        "  elif type == 'ReLU':\n",
        "   if derivative:\n",
        "    return np.where(x > 0, 1, 0)\n",
        "   return np.maximum(0, x)"
      ],
      "metadata": {
        "id": "Wp_qiyB5Hh0W"
      },
      "execution_count": 67,
      "outputs": []
    },
    {
      "cell_type": "code",
      "source": [
        "def softmax(x):\n",
        "    e_x = np.exp(x - np.max(x))\n",
        "    return e_x / e_x.sum(axis=0)"
      ],
      "metadata": {
        "id": "MnfK3ozFZMKC"
      },
      "execution_count": 68,
      "outputs": []
    },
    {
      "cell_type": "code",
      "source": [
        "class Neural_Network():\n",
        "\n",
        "\n",
        "  def __init__(self,input_nodes,layers,output_nodes):\n",
        "    self.input_nodes = input_nodes  #dimension of the input vector\n",
        "    self.layers = layers   #number of layers that we want in netork\n",
        "    self.output_nodes = output_nodes  #number of output classes\n",
        "\n",
        "    #convert to small_named variables for comfort\n",
        "    self.n = self.input_nodes\n",
        "    self.L = self.layers\n",
        "    self.k = self.output_nodes\n",
        "\n",
        "    self.W = []  # W will be a list of matrices of size nxn --> n = dimension of input vector\n",
        "    self.B = []  # B will be a list of matrices of size 1xn\n",
        "\n",
        "    #weights & biases initialisation for layers 1 to L-1\n",
        "    for i in range(0, self.L-1):\n",
        "        W_i = np.random.rand(self.n, self.n)/np.sqrt(self.n) # creating nxn matrix\n",
        "        B_i = np.random.rand(1, self.n)  # creating 1xn matrix\n",
        "        self.W.append(W_i)\n",
        "        self.B.append(B_i)\n",
        "\n",
        "    #weights & biases initialisation for last layer\n",
        "    W_i = np.random.rand(self.n,self.k)/np.sqrt(self.n) # creating nxk matrix\n",
        "    B_i = np.random.rand(1,self.k) # creating 1xk matrix\n",
        "    self.W.append(W_i)\n",
        "    self.B.append(B_i)\n",
        "\n",
        "  def forward(self,X):\n",
        "    Y_hat = []\n",
        "    # Initializing lists A and H depending on the number of layers\n",
        "    A = [[] for _ in range(self.layers)]\n",
        "    H = [[] for _ in range(self.layers)]\n",
        "\n",
        "    for x in X:\n",
        "\n",
        "\n",
        "      #input layer\n",
        "      a0 = np.dot(self.W[0],x.T)  + self.B[0].T   #a1 = W1.x + b1\n",
        "      A[0].append(a0)\n",
        "      h0 = activation(a0,type='sigmoid')  #h1 = activation(a1)\n",
        "      H[0].append(h0)\n",
        "\n",
        "      #middle layers\n",
        "      for i in range(1,self.L-1):\n",
        "          # Accessing the value in H[i-1] corresponding to the current x\n",
        "          h_prev = H[i - 1][-1]  # Getting the last element added to H[i-1]\n",
        "          a = np.dot(self.W[i], h_prev) + self.B[i].T  # a = Wi.h(i-1) + Bi\n",
        "          A[i].append(a)\n",
        "          h = activation(a, type='sigmoid')\n",
        "          H[i].append(h)\n",
        "\n",
        "      #output layer\n",
        "      a_L = np.dot(self.W[self.L-1].T,H[self.L-2][-1]) + self.B[self.L-1].T\n",
        "      A[self.L-1].append(a_L)\n",
        "      y_hat = softmax(a_L)\n",
        "      Y_hat.append(y_hat)\n",
        "\n",
        "    return Y_hat, A, H    #each y_hat is a kx1 matrix\n",
        "\n",
        "\n",
        "\n",
        "  def backward(self,X,Y,lr,max_iter):\n",
        "    errors = []\n",
        "\n",
        "    for i in range(max_iter):\n",
        "      print(f\"Iteration: {i}\")\n",
        "      dW = []\n",
        "      dB = []\n",
        "      dA = [[] for _ in range(self.layers)]\n",
        "      dH = [[] for _ in range(self.layers)]\n",
        "\n",
        "      for i in range(0, self.L-1):\n",
        "        dW_i = np.zeros((self.n, self.n))  # creating nxn matrix\n",
        "        dB_i = np.zeros((1, self.n))  # creating 1xn matrix\n",
        "        dW.append(dW_i)\n",
        "        dB.append(dB_i)\n",
        "\n",
        "      dW_i = np.zeros((self.n, self.k))  # creating nxk matrix for last layer\n",
        "      dB_i = np.zeros((1, self.k))  # creating 1xk matrix for last layer\n",
        "      dW.append(dW_i)\n",
        "      dB.append(dB_i)\n",
        "\n",
        "      Y_hat, A, H  = self.forward(X)\n",
        "\n",
        "      for x, y, y_hat in zip(X, Y, Y_hat):\n",
        "\n",
        "        #backpropagating through output layer\n",
        "        grad_A_L_minus_1 = (y_hat - y)\n",
        "        dA[self.L-1].append(grad_A_L_minus_1)\n",
        "\n",
        "        #backpropagating through middle layers\n",
        "        for j in range(self.L-1, 0, -1):\n",
        "          # dw = np.dot(dA[j][-1], H[j-1][-1].T)\n",
        "          # dw = np.dot(dA[j][-1], H[j-1][-1])\n",
        "          dw = np.dot(H[j-1][-1],dA[j][-1].T)\n",
        "          dW[j] += dw\n",
        "          dB[j] += dA[j][-1].T\n",
        "          grad_H_j_minus_1 = np.dot(self.W[j], dA[j][-1])\n",
        "          dH[j-1].append(grad_H_j_minus_1)\n",
        "          grad_A_j_minus_1 = grad_H_j_minus_1 * activation(A[j-1][-1], type='sigmoid', derivative=True)\n",
        "          dA[j-1].append(grad_A_j_minus_1)\n",
        "\n",
        "        #backpropagating through input layer\n",
        "        dw = np.dot(grad_A_j_minus_1, x)\n",
        "        dW[0] += dw\n",
        "        dB[0] += grad_A_j_minus_1.T\n",
        "\n",
        "      #updating the weights and biases\n",
        "      for j in range(self.L):\n",
        "        self.W[j] -= lr * dW[j]\n",
        "        self.B[j] -= lr * dB[j]\n",
        "\n",
        "\n",
        "      # Calculating error after each epoch\n",
        "      Y = np.array(Y)\n",
        "      Y_hat = np.array(Y_hat)\n",
        "      loss = -Y * np.log(Y_hat)\n",
        "      mean_loss = np.mean(loss)\n",
        "      errors.append(mean_loss)\n",
        "      print(\"Mean loss:\", mean_loss)\n",
        "\n",
        "    # Plotting errors vs epoch\n",
        "    plt.plot(errors)\n",
        "    plt.xlabel('Epoch')\n",
        "    plt.ylabel('Mean Loss')\n",
        "    plt.title('Training Loss over Epochs')\n",
        "    plt.show()\n",
        "\n",
        "    return self.W,self.B\n",
        "\n"
      ],
      "metadata": {
        "id": "3tmWUGsi0xba"
      },
      "execution_count": 69,
      "outputs": []
    },
    {
      "cell_type": "code",
      "source": [
        "model = Neural_Network(5, 3, 4)"
      ],
      "metadata": {
        "id": "7v48UQnCeWNk"
      },
      "execution_count": 70,
      "outputs": []
    },
    {
      "cell_type": "code",
      "source": [
        "#Checking dimensions for verification\n",
        "for w in model.W:\n",
        "  print(w.shape)"
      ],
      "metadata": {
        "colab": {
          "base_uri": "https://localhost:8080/"
        },
        "id": "rFZfkZSCjztA",
        "outputId": "256eae90-0262-437c-a4f9-ead586d95a60"
      },
      "execution_count": 71,
      "outputs": [
        {
          "output_type": "stream",
          "name": "stdout",
          "text": [
            "(5, 5)\n",
            "(5, 5)\n",
            "(5, 4)\n"
          ]
        }
      ]
    },
    {
      "cell_type": "code",
      "source": [
        "for b in model.B:\n",
        "  print(b.shape)"
      ],
      "metadata": {
        "colab": {
          "base_uri": "https://localhost:8080/"
        },
        "id": "015VgiOAkIr9",
        "outputId": "f4ff0270-ea7f-4292-cba1-5617eda5e497"
      },
      "execution_count": 72,
      "outputs": [
        {
          "output_type": "stream",
          "name": "stdout",
          "text": [
            "(1, 5)\n",
            "(1, 5)\n",
            "(1, 4)\n"
          ]
        }
      ]
    },
    {
      "cell_type": "code",
      "source": [
        "# Defining the dimensions as per our data\n",
        "m = 10  # number of data points\n",
        "n = 5   # dimension of input vectors\n",
        "k = 4   # dimension of output vectors\n",
        "\n",
        "# Preparing X list with random values X = input data\n",
        "X = [np.random.rand(1, n) for _ in range(m)]\n",
        "\n",
        "# Preparing Y list with one-hot encoded vectors\n",
        "Y = []\n",
        "for _ in range(m):\n",
        "    y = np.zeros((k, 1))\n",
        "    index = np.random.randint(0, k)\n",
        "    y[index, 0] = 1\n",
        "    Y.append(y)\n",
        "\n"
      ],
      "metadata": {
        "id": "FUUOVB7rZuqM"
      },
      "execution_count": 73,
      "outputs": []
    },
    {
      "cell_type": "code",
      "source": [
        "#checking the dimensions\n",
        "for x in X:\n",
        "  print(x.shape)"
      ],
      "metadata": {
        "colab": {
          "base_uri": "https://localhost:8080/"
        },
        "id": "2pk1VhoRfFgD",
        "outputId": "b29ac801-c893-47ed-a7ac-40a2a3139316"
      },
      "execution_count": 74,
      "outputs": [
        {
          "output_type": "stream",
          "name": "stdout",
          "text": [
            "(1, 5)\n",
            "(1, 5)\n",
            "(1, 5)\n",
            "(1, 5)\n",
            "(1, 5)\n",
            "(1, 5)\n",
            "(1, 5)\n",
            "(1, 5)\n",
            "(1, 5)\n",
            "(1, 5)\n"
          ]
        }
      ]
    },
    {
      "cell_type": "code",
      "source": [
        "for y in Y:\n",
        "  print(y.shape)"
      ],
      "metadata": {
        "colab": {
          "base_uri": "https://localhost:8080/"
        },
        "id": "OJi5ZVovfKNi",
        "outputId": "09ae348a-2f66-44fa-e0d4-f1bc6d71aeaf"
      },
      "execution_count": 75,
      "outputs": [
        {
          "output_type": "stream",
          "name": "stdout",
          "text": [
            "(4, 1)\n",
            "(4, 1)\n",
            "(4, 1)\n",
            "(4, 1)\n",
            "(4, 1)\n",
            "(4, 1)\n",
            "(4, 1)\n",
            "(4, 1)\n",
            "(4, 1)\n",
            "(4, 1)\n"
          ]
        }
      ]
    },
    {
      "cell_type": "code",
      "source": [
        "# Printing X and Y for verification\n",
        "print(\"X:\")\n",
        "for x in X:\n",
        "    print(x)\n",
        "\n",
        "print(\"\\nY:\")\n",
        "for y in Y:\n",
        "    print(y)"
      ],
      "metadata": {
        "colab": {
          "base_uri": "https://localhost:8080/"
        },
        "id": "wW-LRB5_Z1Jt",
        "outputId": "86eaa910-2d7c-4fce-9298-a5e9114e3886"
      },
      "execution_count": 76,
      "outputs": [
        {
          "output_type": "stream",
          "name": "stdout",
          "text": [
            "X:\n",
            "[[0.77742541 0.22656042 0.75174604 0.54124795 0.18545851]]\n",
            "[[0.41946468 0.25111953 0.81355829 0.05373892 0.99555771]]\n",
            "[[0.45951869 0.3735928  0.50302072 0.0084996  0.35316853]]\n",
            "[[0.14711328 0.84923127 0.4530475  0.36127415 0.47123622]]\n",
            "[[0.21409702 0.95470554 0.86450057 0.22222517 0.1415354 ]]\n",
            "[[0.06821006 0.26553074 0.06125729 0.43607975 0.14371319]]\n",
            "[[0.46070617 0.16399499 0.92993688 0.79817366 0.79276389]]\n",
            "[[0.1934771  0.79005909 0.62347408 0.52069288 0.96781564]]\n",
            "[[0.34679969 0.91612992 0.57781101 0.67089412 0.59010726]]\n",
            "[[0.96473718 0.67840057 0.00373979 0.047742   0.59871047]]\n",
            "\n",
            "Y:\n",
            "[[0.]\n",
            " [0.]\n",
            " [0.]\n",
            " [1.]]\n",
            "[[0.]\n",
            " [0.]\n",
            " [0.]\n",
            " [1.]]\n",
            "[[0.]\n",
            " [1.]\n",
            " [0.]\n",
            " [0.]]\n",
            "[[1.]\n",
            " [0.]\n",
            " [0.]\n",
            " [0.]]\n",
            "[[0.]\n",
            " [0.]\n",
            " [0.]\n",
            " [1.]]\n",
            "[[0.]\n",
            " [0.]\n",
            " [1.]\n",
            " [0.]]\n",
            "[[1.]\n",
            " [0.]\n",
            " [0.]\n",
            " [0.]]\n",
            "[[1.]\n",
            " [0.]\n",
            " [0.]\n",
            " [0.]]\n",
            "[[1.]\n",
            " [0.]\n",
            " [0.]\n",
            " [0.]]\n",
            "[[1.]\n",
            " [0.]\n",
            " [0.]\n",
            " [0.]]\n"
          ]
        }
      ]
    },
    {
      "cell_type": "code",
      "source": [
        "Y_pred, A1, H1 = model.forward(X)\n",
        "print(\"Y_pred:\")\n",
        "for y_pred in Y_pred:\n",
        "    print(y_pred)"
      ],
      "metadata": {
        "colab": {
          "base_uri": "https://localhost:8080/"
        },
        "id": "Hb77raLibNJu",
        "outputId": "2019f91c-2049-4437-e4c6-6f2708807d28"
      },
      "execution_count": 77,
      "outputs": [
        {
          "output_type": "stream",
          "name": "stdout",
          "text": [
            "Y_pred:\n",
            "[[0.24506813]\n",
            " [0.09575443]\n",
            " [0.28157939]\n",
            " [0.37759805]]\n",
            "[[0.24505002]\n",
            " [0.09573774]\n",
            " [0.28163207]\n",
            " [0.37758018]]\n",
            "[[0.24496917]\n",
            " [0.09618438]\n",
            " [0.28117821]\n",
            " [0.37766824]]\n",
            "[[0.2450915 ]\n",
            " [0.09570403]\n",
            " [0.28161892]\n",
            " [0.37758556]]\n",
            "[[0.24512176]\n",
            " [0.09566178]\n",
            " [0.2816111 ]\n",
            " [0.37760536]]\n",
            "[[0.24485446]\n",
            " [0.09655812]\n",
            " [0.28091818]\n",
            " [0.37766923]]\n",
            "[[0.24512702]\n",
            " [0.09537972]\n",
            " [0.28199168]\n",
            " [0.37750158]]\n",
            "[[0.24517043]\n",
            " [0.09530056]\n",
            " [0.28202091]\n",
            " [0.3775081 ]]\n",
            "[[0.24519312]\n",
            " [0.09527731]\n",
            " [0.28201067]\n",
            " [0.3775189 ]]\n",
            "[[0.24508189]\n",
            " [0.0958205 ]\n",
            " [0.28145246]\n",
            " [0.37764516]]\n"
          ]
        }
      ]
    },
    {
      "cell_type": "code",
      "source": [
        "# Converting Y and Y_hat from lists to numpy arrays\n",
        "Y = np.array(Y)\n",
        "Y_hat = np.array(Y_pred)\n",
        "\n",
        "# Computing the loss using -Y * log(Y_hat)\n",
        "loss = -Y * np.log(Y_hat)\n",
        "\n",
        "# Calculating the mean loss\n",
        "mean_loss = np.mean(loss)\n",
        "\n",
        "print(\"Mean loss:\", mean_loss)"
      ],
      "metadata": {
        "colab": {
          "base_uri": "https://localhost:8080/"
        },
        "id": "MhigLEUB8omB",
        "outputId": "defc05b2-7975-48dc-9d57-a8ad15d778f6"
      },
      "execution_count": 78,
      "outputs": [
        {
          "output_type": "stream",
          "name": "stdout",
          "text": [
            "Mean loss: 0.33906898048190265\n"
          ]
        }
      ]
    },
    {
      "cell_type": "code",
      "source": [
        "for y_pred in Y_pred:\n",
        "  print(np.sum(y_pred))"
      ],
      "metadata": {
        "colab": {
          "base_uri": "https://localhost:8080/"
        },
        "id": "UVM5Et2tlrDW",
        "outputId": "9c99d624-d795-47a4-d5a8-ab98279ec75f"
      },
      "execution_count": 79,
      "outputs": [
        {
          "output_type": "stream",
          "name": "stdout",
          "text": [
            "1.0\n",
            "1.0\n",
            "1.0\n",
            "1.0\n",
            "1.0\n",
            "0.9999999999999999\n",
            "0.9999999999999999\n",
            "1.0\n",
            "0.9999999999999999\n",
            "1.0\n"
          ]
        }
      ]
    },
    {
      "cell_type": "code",
      "source": [
        "lr = 0.01\n",
        "max_iter = 100\n",
        "model.backward(X,Y,lr,max_iter)"
      ],
      "metadata": {
        "colab": {
          "base_uri": "https://localhost:8080/",
          "height": 1000
        },
        "id": "LAoAG8wQ3q3m",
        "outputId": "57325e89-1883-4be4-fa00-ad70504c833d"
      },
      "execution_count": 80,
      "outputs": [
        {
          "output_type": "stream",
          "name": "stdout",
          "text": [
            "Iteration: 0\n",
            "Mean loss: 0.33906898048190265\n",
            "Iteration: 1\n",
            "Mean loss: 0.32820288887477117\n",
            "Iteration: 2\n",
            "Mean loss: 0.31978048325751196\n",
            "Iteration: 3\n",
            "Mean loss: 0.3133260064433266\n",
            "Iteration: 4\n",
            "Mean loss: 0.3084171652139508\n",
            "Iteration: 5\n",
            "Mean loss: 0.30469864007510494\n",
            "Iteration: 6\n",
            "Mean loss: 0.3018836174517437\n",
            "Iteration: 7\n",
            "Mean loss: 0.29974769972745774\n",
            "Iteration: 8\n",
            "Mean loss: 0.2981192824941245\n",
            "Iteration: 9\n",
            "Mean loss: 0.296869230690893\n",
            "Iteration: 10\n",
            "Mean loss: 0.295901414054131\n",
            "Iteration: 11\n",
            "Mean loss: 0.29514474694417797\n",
            "Iteration: 12\n",
            "Mean loss: 0.29454683988796504\n",
            "Iteration: 13\n",
            "Mean loss: 0.29406910881637294\n",
            "Iteration: 14\n",
            "Mean loss: 0.2936830935737989\n",
            "Iteration: 15\n",
            "Mean loss: 0.29336772966753466\n",
            "Iteration: 16\n",
            "Mean loss: 0.29310734744190986\n",
            "Iteration: 17\n",
            "Mean loss: 0.29289021459280223\n",
            "Iteration: 18\n",
            "Mean loss: 0.2927074787228781\n",
            "Iteration: 19\n",
            "Mean loss: 0.2925524015921814\n",
            "Iteration: 20\n",
            "Mean loss: 0.29241980470698403\n",
            "Iteration: 21\n",
            "Mean loss: 0.29230566741679714\n",
            "Iteration: 22\n",
            "Mean loss: 0.29220683482850496\n",
            "Iteration: 23\n",
            "Mean loss: 0.2921208047423698\n",
            "Iteration: 24\n",
            "Mean loss: 0.2920455714818049\n",
            "Iteration: 25\n",
            "Mean loss: 0.2919795107532496\n",
            "Iteration: 26\n",
            "Mean loss: 0.2919212941753351\n",
            "Iteration: 27\n",
            "Mean loss: 0.29186982534108086\n",
            "Iteration: 28\n",
            "Mean loss: 0.2918241915805139\n",
            "Iteration: 29\n",
            "Mean loss: 0.29178362723470735\n",
            "Iteration: 30\n",
            "Mean loss: 0.2917474854244606\n",
            "Iteration: 31\n",
            "Mean loss: 0.29171521613324003\n",
            "Iteration: 32\n",
            "Mean loss: 0.29168634902149126\n",
            "Iteration: 33\n",
            "Mean loss: 0.2916604798171033\n",
            "Iteration: 34\n",
            "Mean loss: 0.2916372594337445\n",
            "Iteration: 35\n",
            "Mean loss: 0.2916163851898555\n",
            "Iteration: 36\n",
            "Mean loss: 0.29159759366098\n",
            "Iteration: 37\n",
            "Mean loss: 0.291580654814354\n",
            "Iteration: 38\n",
            "Mean loss: 0.2915653671596711\n",
            "Iteration: 39\n",
            "Mean loss: 0.291551553712509\n",
            "Iteration: 40\n",
            "Mean loss: 0.29153905861329554\n",
            "Iteration: 41\n",
            "Mean loss: 0.2915277442793648\n",
            "Iteration: 42\n",
            "Mean loss: 0.29151748899379293\n",
            "Iteration: 43\n",
            "Mean loss: 0.2915081848545781\n",
            "Iteration: 44\n",
            "Mean loss: 0.2914997360229824\n",
            "Iteration: 45\n",
            "Mean loss: 0.29149205722166677\n",
            "Iteration: 46\n",
            "Mean loss: 0.29148507244248256\n",
            "Iteration: 47\n",
            "Mean loss: 0.2914787138310625\n",
            "Iteration: 48\n",
            "Mean loss: 0.2914729207211419\n",
            "Iteration: 49\n",
            "Mean loss: 0.2914676387961812\n",
            "Iteration: 50\n",
            "Mean loss: 0.29146281935960683\n",
            "Iteration: 51\n",
            "Mean loss: 0.2914584186980364\n",
            "Iteration: 52\n",
            "Mean loss: 0.2914543975243457\n",
            "Iteration: 53\n",
            "Mean loss: 0.29145072048948867\n",
            "Iteration: 54\n",
            "Mean loss: 0.291447355753681\n",
            "Iteration: 55\n",
            "Mean loss: 0.29144427460896805\n",
            "Iteration: 56\n",
            "Mean loss: 0.2914414511463782\n",
            "Iteration: 57\n",
            "Mean loss: 0.29143886196185165\n",
            "Iteration: 58\n",
            "Mean loss: 0.2914364858959647\n",
            "Iteration: 59\n",
            "Mean loss: 0.2914343038031727\n",
            "Iteration: 60\n",
            "Mean loss: 0.2914322983468882\n",
            "Iteration: 61\n",
            "Mean loss: 0.2914304538172158\n",
            "Iteration: 62\n",
            "Mean loss: 0.2914287559685929\n",
            "Iteration: 63\n",
            "Mean loss: 0.29142719187495414\n",
            "Iteration: 64\n",
            "Mean loss: 0.29142574980034813\n",
            "Iteration: 65\n",
            "Mean loss: 0.2914244190832047\n",
            "Iteration: 66\n",
            "Mean loss: 0.29142319003268186\n",
            "Iteration: 67\n",
            "Mean loss: 0.2914220538357175\n",
            "Iteration: 68\n",
            "Mean loss: 0.2914210024735862\n",
            "Iteration: 69\n",
            "Mean loss: 0.2914200286469047\n",
            "Iteration: 70\n",
            "Mean loss: 0.2914191257081614\n",
            "Iteration: 71\n",
            "Mean loss: 0.29141828760095423\n",
            "Iteration: 72\n",
            "Mean loss: 0.29141750880521694\n",
            "Iteration: 73\n",
            "Mean loss: 0.2914167842878017\n",
            "Iteration: 74\n",
            "Mean loss: 0.29141610945785407\n",
            "Iteration: 75\n",
            "Mean loss: 0.29141548012648383\n",
            "Iteration: 76\n",
            "Mean loss: 0.29141489247029173\n",
            "Iteration: 77\n",
            "Mean loss: 0.29141434299835656\n",
            "Iteration: 78\n",
            "Mean loss: 0.2914138285223374\n",
            "Iteration: 79\n",
            "Mean loss: 0.2914133461293768\n",
            "Iteration: 80\n",
            "Mean loss: 0.2914128931575295\n",
            "Iteration: 81\n",
            "Mean loss: 0.29141246717346697\n",
            "Iteration: 82\n",
            "Mean loss: 0.29141206595223734\n",
            "Iteration: 83\n",
            "Mean loss: 0.29141168745888024\n",
            "Iteration: 84\n",
            "Mean loss: 0.29141132983172036\n",
            "Iteration: 85\n",
            "Mean loss: 0.2914109913671781\n",
            "Iteration: 86\n",
            "Mean loss: 0.2914106705059531\n",
            "Iteration: 87\n",
            "Mean loss: 0.2914103658204539\n",
            "Iteration: 88\n",
            "Mean loss: 0.2914100760033536\n",
            "Iteration: 89\n",
            "Mean loss: 0.29140979985716986\n",
            "Iteration: 90\n",
            "Mean loss: 0.2914095362847719\n",
            "Iteration: 91\n",
            "Mean loss: 0.29140928428073104\n",
            "Iteration: 92\n",
            "Mean loss: 0.29140904292343545\n",
            "Iteration: 93\n",
            "Mean loss: 0.2914088113679019\n",
            "Iteration: 94\n",
            "Mean loss: 0.2914085888392182\n",
            "Iteration: 95\n",
            "Mean loss: 0.291408374626562\n",
            "Iteration: 96\n",
            "Mean loss: 0.2914081680777417\n",
            "Iteration: 97\n",
            "Mean loss: 0.2914079685942148\n",
            "Iteration: 98\n",
            "Mean loss: 0.2914077756265387\n",
            "Iteration: 99\n",
            "Mean loss: 0.2914075886702171\n"
          ]
        },
        {
          "output_type": "display_data",
          "data": {
            "text/plain": [
              "<Figure size 640x480 with 1 Axes>"
            ],
            "image/png": "[encoded data removed]"
          },
          "metadata": {}
        },
        {
          "output_type": "execute_result",
          "data": {
            "text/plain": [
              "([array([[0.08285135, 0.22703369, 0.36334536, 0.2480424 , 0.16580994],\n",
              "         [0.35357484, 0.08972837, 0.16193311, 0.12058107, 0.30308455],\n",
              "         [0.29750997, 0.41604468, 0.13906023, 0.35371698, 0.13902405],\n",
              "         [0.21223707, 0.38759708, 0.15179549, 0.08830987, 0.44578132],\n",
              "         [0.02011602, 0.14726613, 0.20059082, 0.41772329, 0.282435  ]]),\n",
              "  array([[0.38633039, 0.0228394 , 0.37522186, 0.30658345, 0.16427439],\n",
              "         [0.44733439, 0.4425962 , 0.21618013, 0.1905355 , 0.27205532],\n",
              "         [0.12126053, 0.08474766, 0.25209136, 0.21846672, 0.42951039],\n",
              "         [0.35601784, 0.30643256, 0.38142673, 0.2615862 , 0.24127714],\n",
              "         [0.42353995, 0.10521561, 0.4211577 , 0.2567281 , 0.0578499 ]]),\n",
              "  array([[ 0.53569288,  0.1026596 ,  0.17478628,  0.35791055],\n",
              "         [ 0.35950437,  0.3261671 ,  0.23903476,  0.21138561],\n",
              "         [ 0.22078921,  0.03513038,  0.16356797,  0.00683717],\n",
              "         [ 0.48297604,  0.29231821, -0.07378235,  0.33339071],\n",
              "         [ 0.5801992 ,  0.04982692,  0.27550519,  0.31082282]])],\n",
              " [array([[0.79271927, 0.51126984, 0.29164644, 0.68733592, 0.30059246]]),\n",
              "  array([[0.84796886, 0.77873619, 0.61851867, 0.39472149, 0.28614982]]),\n",
              "  array([[0.54549389, 0.050489  , 0.09637377, 0.82127844]])])"
            ]
          },
          "metadata": {},
          "execution_count": 80
        }
      ]
    },
    {
      "cell_type": "code",
      "source": [
        "#making final prediction using trained model\n",
        "pred,A1,H1 = model.forward(X)"
      ],
      "metadata": {
        "id": "q9VE9S-lTQtq"
      },
      "execution_count": 81,
      "outputs": []
    },
    {
      "cell_type": "code",
      "source": [
        "print(pred)"
      ],
      "metadata": {
        "colab": {
          "base_uri": "https://localhost:8080/"
        },
        "id": "Xx2ODeLD9IS9",
        "outputId": "4d2c1cd1-7375-4480-b633-07f34c6c9403"
      },
      "execution_count": 82,
      "outputs": [
        {
          "output_type": "stream",
          "name": "stdout",
          "text": [
            "[array([[0.49993306],\n",
            "       [0.09962082],\n",
            "       [0.10043678],\n",
            "       [0.30000933]]), array([[0.5001112 ],\n",
            "       [0.09958727],\n",
            "       [0.10037933],\n",
            "       [0.2999222 ]]), array([[0.49808598],\n",
            "       [0.10013881],\n",
            "       [0.10100829],\n",
            "       [0.30076693]]), array([[0.50007698],\n",
            "       [0.09955193],\n",
            "       [0.10041401],\n",
            "       [0.29995708]]), array([[0.50017945],\n",
            "       [0.09950823],\n",
            "       [0.10037769],\n",
            "       [0.29993464]]), array([[0.49647316],\n",
            "       [0.10059703],\n",
            "       [0.10153825],\n",
            "       [0.30139156]]), array([[0.50162179],\n",
            "       [0.09915813],\n",
            "       [0.09992812],\n",
            "       [0.29929196]]), array([[0.50188967],\n",
            "       [0.09905605],\n",
            "       [0.09985304],\n",
            "       [0.29920124]]), array([[0.50192282],\n",
            "       [0.09903275],\n",
            "       [0.09984414],\n",
            "       [0.2992003 ]]), array([[0.49965965],\n",
            "       [0.09968553],\n",
            "       [0.10050902],\n",
            "       [0.30014579]])]\n"
          ]
        }
      ]
    },
    {
      "cell_type": "code",
      "source": [
        "# Converting Y and Y_hat from lists to numpy arrays\n",
        "Y = np.array(Y)\n",
        "pred = np.array(pred)\n",
        "\n",
        "# Computing the loss using -Y * log(Y_hat)\n",
        "loss = -Y * np.log(pred)\n",
        "\n",
        "# Calculating the mean loss\n",
        "mean_loss = np.mean(loss)\n",
        "\n",
        "print(\"Mean loss:\", mean_loss)"
      ],
      "metadata": {
        "colab": {
          "base_uri": "https://localhost:8080/"
        },
        "id": "RC1zbfzQ8EwS",
        "outputId": "e7b7062d-ad93-4334-e25c-be61468bd9f1"
      },
      "execution_count": 83,
      "outputs": [
        {
          "output_type": "stream",
          "name": "stdout",
          "text": [
            "Mean loss: 0.2914074072619058\n"
          ]
        }
      ]
    }
  ]
}