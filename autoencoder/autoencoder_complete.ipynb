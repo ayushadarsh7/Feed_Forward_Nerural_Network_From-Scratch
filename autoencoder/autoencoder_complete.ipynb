{
  "cells": [
    {
      "cell_type": "code",
      "execution_count": null,
      "metadata": {
        "id": "37b5QS3YnL84"
      },
      "outputs": [],
      "source": [
        "import numpy as np"
      ]
    },
    {
      "cell_type": "code",
      "execution_count": null,
      "metadata": {
        "id": "02nnwbl8np2h"
      },
      "outputs": [],
      "source": [
        "def sigmoid(x):\n",
        "    return 1/(1+ np.exp(-x))\n"
      ]
    },
    {
      "cell_type": "code",
      "execution_count": null,
      "metadata": {
        "id": "TyuMUjEt_xfw"
      },
      "outputs": [],
      "source": [
        "def sigmoid_derivative(x):\n",
        "    return x * (1 - x)"
      ]
    },
    {
      "cell_type": "code",
      "execution_count": 37,
      "metadata": {
        "colab": {
          "base_uri": "https://localhost:8080/",
          "height": 123
        },
        "id": "_N1LKn85nu0E",
        "outputId": "5c9bdf81-231b-4c6e-9d58-2439a6f1fc18"
      },
      "outputs": [
        {
          "data": {
            "application/vnd.google.colaboratory.intrinsic+json": {
              "type": "string"
            },
            "text/plain": [
              "'\\n# class autoencoder():\\n\\n#     def __init__(self,W,B):\\n#         self.W = W #W is a list of W[0] and W[1] , W[0] and W[1] are matrices of 4x3 and 3x4 respectively\\n#         self.B = B #B is a list of vectors B[0] and B[1]  where B[0] and  B[1] are matrices of 4x1 and 3x1 respectively\\n\\n#     def forward(self,X):\\n#         X_hat=[]\\n#         A1=[]\\n#         H0=[]\\n#         A0=[]\\n#         for x in X:\\n#             x = np.array(x)\\n#             x = x.reshape(len(x),1) #numpy array to matrix helpful in matrix multiplication\\n\\n#             #encoder Layer\\n#             A0_tmp= np.dot(self.W[0],x) + self.B[0] #A[0] is 4X1 matrix  , 4 = no. of neurons in hidden layer\\n#             print(f\"A0_tmp shape is {A0_tmp.shape}\",A0_tmp.shape)\\n#             A0.append(A0_tmp)\\n\\n#             #hidden layer\\n#             H0_tmp= sigmoid(A0_tmp)  #H[0] is 4X1 matrix\\n#             print(f\"H0_tmp shape is {H0_tmp.shape}\",H0_tmp.shape)\\n#             H0.append(H0_tmp)\\n\\n\\n#             #Decoder Layer\\n#             A1_tmp= np.dot(self.W[1],H0_tmp) + self.B[1] #A1 is 3X1 matrix,  A1 is X_hat(decoded output) , 3 = no. of neurons in input layer\\n#             print(f\"A1_tmp shape is {A1_tmp.shape}\",A1_tmp.shape)\\n#             A1.append(A1_tmp)\\n\\n\\n#             #adding output for each point\\n#             X_hat.append(A1_tmp)\\n#         return X_hat , A1, H0, A0\\n\\n\\n#     def error(self, X, X_hat):   #look at the formula of error used here it is below in the image\\n\\n#       error = 0.0\\n#       for i in range(len(X)):\\n\\n#         error += np.mean((X_hat[i] - X[i].flatten()) ** 2)\\n#       return error\\n\\n#     def backpropagate(self,X,lr,max_iter):\\n\\n#       for i in range(max_iter):\\n#         X_hat , A1, H0, A0 = self.forward(X)\\n\\n#         dw = [np.zeros_like(w) for w in self.W]\\n#         db = [np.zeros_like(b) for b in self.B]\\n\\n#         for x,x_hat,h0,a0,a1 in zip(X,X_hat,H0,A0,A1):\\n#           x= np.array(x)\\n#           x = x.reshape(len(x),1)\\n#           dA1 = 2*(x_hat-x)\\n#           dw[1] = dw [1] + np.dot(dA1, h0.T)\\n#           db[1] = db[1] + dA1.reshape(-1)\\n#           dH0 = np.dot(self.W[1].T, dA1)\\n#           dA0 = dH0 * h0 * (1 - h0)\\n#           dw[0] = dw[0] + np.dot(dA0, x.T)\\n#           db[0] = db[0] + dA0.reshape(-1)\\n\\n#         for i in range(len(self.W)):\\n#           self.W[i] = self.W[i] - lr*dw[i]\\n#           self.B[i] = self.B[i] - lr*db[i]\\n'"
            ]
          },
          "execution_count": 37,
          "metadata": {},
          "output_type": "execute_result"
        }
      ],
      "source": [
        "'''\n",
        "# class autoencoder():\n",
        "\n",
        "#     def __init__(self,W,B):\n",
        "#         self.W = W #W is a list of W[0] and W[1] , W[0] and W[1] are matrices of 4x3 and 3x4 respectively\n",
        "#         self.B = B #B is a list of vectors B[0] and B[1]  where B[0] and  B[1] are matrices of 4x1 and 3x1 respectively\n",
        "\n",
        "#     def forward(self,X):\n",
        "#         X_hat=[]\n",
        "#         A1=[]\n",
        "#         H0=[]\n",
        "#         A0=[]\n",
        "#         for x in X:\n",
        "#             x = np.array(x)\n",
        "#             x = x.reshape(len(x),1) #numpy array to matrix helpful in matrix multiplication\n",
        "\n",
        "#             #encoder Layer\n",
        "#             A0_tmp= np.dot(self.W[0],x) + self.B[0] #A[0] is 4X1 matrix  , 4 = no. of neurons in hidden layer\n",
        "#             print(f\"A0_tmp shape is {A0_tmp.shape}\",A0_tmp.shape)\n",
        "#             A0.append(A0_tmp)\n",
        "\n",
        "#             #hidden layer\n",
        "#             H0_tmp= sigmoid(A0_tmp)  #H[0] is 4X1 matrix\n",
        "#             print(f\"H0_tmp shape is {H0_tmp.shape}\",H0_tmp.shape)\n",
        "#             H0.append(H0_tmp)\n",
        "\n",
        "\n",
        "#             #Decoder Layer\n",
        "#             A1_tmp= np.dot(self.W[1],H0_tmp) + self.B[1] #A1 is 3X1 matrix,  A1 is X_hat(decoded output) , 3 = no. of neurons in input layer\n",
        "#             print(f\"A1_tmp shape is {A1_tmp.shape}\",A1_tmp.shape)\n",
        "#             A1.append(A1_tmp)\n",
        "\n",
        "\n",
        "#             #adding output for each point\n",
        "#             X_hat.append(A1_tmp)\n",
        "#         return X_hat , A1, H0, A0\n",
        "\n",
        "\n",
        "#     def error(self, X, X_hat):   #look at the formula of error used here it is below in the image\n",
        "\n",
        "#       error = 0.0\n",
        "#       for i in range(len(X)):\n",
        "\n",
        "#         error += np.mean((X_hat[i] - X[i].flatten()) ** 2)\n",
        "#       return error\n",
        "\n",
        "#     def backpropagate(self,X,lr,max_iter):\n",
        "\n",
        "#       for i in range(max_iter):\n",
        "#         X_hat , A1, H0, A0 = self.forward(X)\n",
        "\n",
        "#         dw = [np.zeros_like(w) for w in self.W]\n",
        "#         db = [np.zeros_like(b) for b in self.B]\n",
        "\n",
        "#         for x,x_hat,h0,a0,a1 in zip(X,X_hat,H0,A0,A1):\n",
        "#           x= np.array(x)\n",
        "#           x = x.reshape(len(x),1)\n",
        "#           dA1 = 2*(x_hat-x)\n",
        "#           dw[1] = dw [1] + np.dot(dA1, h0.T)\n",
        "#           db[1] = db[1] + dA1.reshape(-1)\n",
        "#           dH0 = np.dot(self.W[1].T, dA1)\n",
        "#           dA0 = dH0 * h0 * (1 - h0)\n",
        "#           dw[0] = dw[0] + np.dot(dA0, x.T)\n",
        "#           db[0] = db[0] + dA0.reshape(-1)\n",
        "\n",
        "#         for i in range(len(self.W)):\n",
        "#           self.W[i] = self.W[i] - lr*dw[i]\n",
        "#           self.B[i] = self.B[i] - lr*db[i]\n",
        "'''"
      ]
    },
    {
      "cell_type": "code",
      "execution_count": 38,
      "metadata": {
        "id": "G9X-M-FPlyei"
      },
      "outputs": [],
      "source": [
        "class autoencoder():\n",
        "\n",
        "    def __init__(self,W,B):\n",
        "        self.W = W #W is a list of W[0] and W[1] , W[0] and W[1] are matrices of 4x3 and 3x4 respectively\n",
        "        self.B = B #B is a list of vectors B[0] and B[1]  where B[0] and  B[1] are matrices of 4x1 and 3x1 respectively\n",
        "\n",
        "    def forward(self,X):\n",
        "        X_hat=[]\n",
        "        A1=[]\n",
        "        H0=[]\n",
        "        A0=[]\n",
        "        for x in X:\n",
        "            x = np.array(x).reshape(-1, 1)  #reshaping\n",
        "            a0 = np.dot(self.W[0], x) + self.B[0] #a0 = W0.x + b0\n",
        "            h0 = sigmoid(a0)    #h0 = sigmoid(a0)\n",
        "            a1 = np.dot(self.W[1], h0) + self.B[1] # a1 = W1.h0 + b1\n",
        "\n",
        "            X_hat.append(a1)\n",
        "            A1.append(a1)\n",
        "            H0.append(h0)\n",
        "            A0.append(a0)\n",
        "        return X_hat , A1, H0, A0\n",
        "\n",
        "\n",
        "    def error(self, X, X_hat):\n",
        "      return np.mean([np.mean((x_hat - x.reshape(-1, 1)) ** 2) for x, x_hat in zip(X, X_hat)])\n",
        "\n",
        "    def backpropagate(self,X,lr,max_iter):\n",
        "\n",
        "      for iteration in range(max_iter):\n",
        "\n",
        "\n",
        "        X_hat , A1, H0, A0 = self.forward(X)\n",
        "\n",
        "        dW = [np.zeros_like(w) for w in self.W]\n",
        "        dB = [np.zeros_like(b) for b in self.B]\n",
        "\n",
        "        for i, x in enumerate(X):\n",
        "          x = np.array(x).reshape(-1, 1)\n",
        "          x_hat = X_hat[i]\n",
        "          h0 = H0[i]\n",
        "          a0 = A0[i]\n",
        "          a1 = A1[i]\n",
        "\n",
        "\n",
        "          dA1 = 2 * (x_hat - x)\n",
        "          dW[1] = dW[1] + np.dot(dA1, h0.T)\n",
        "          dB[1] = dB[1] + dA1\n",
        "\n",
        "          dH0 = np.dot(self.W[1].T, dA1)\n",
        "          dA0 = dH0 * sigmoid_derivative(h0)\n",
        "          dW[0] = dW[0] + np.dot(dA0, x.T)\n",
        "          dB[0] = dB[0] + dA0\n",
        "\n",
        "        # Average the gradients\n",
        "        n = len(X)\n",
        "        for i in range(len(self.W)):\n",
        "          dW[i] /= n\n",
        "          dB[i] /= n\n",
        "          self.W[i] -= lr * dW[i]\n",
        "          self.B[i] -= lr * dB[i]\n",
        "\n",
        "        if iteration % 100 == 0:\n",
        "          error = self.error(X, X_hat)\n",
        "          print(f\"Iteration {iteration}, Error: {error}\")"
      ]
    },
    {
      "cell_type": "code",
      "execution_count": 39,
      "metadata": {
        "colab": {
          "base_uri": "https://localhost:8080/"
        },
        "id": "JF3PDODxCMl_",
        "outputId": "19fc8196-a244-4828-94a1-dbf60d8740b1"
      },
      "outputs": [
        {
          "name": "stdout",
          "output_type": "stream",
          "text": [
            "Iteration 0, Error: 8.905562212704469\n",
            "Iteration 100, Error: 1.9277404879562612\n",
            "Iteration 200, Error: 1.7764321854811747\n",
            "Iteration 300, Error: 1.4669046560656747\n",
            "Iteration 400, Error: 1.0227466120142141\n",
            "Iteration 500, Error: 0.7526826043371941\n",
            "Iteration 600, Error: 0.646925217966525\n",
            "Iteration 700, Error: 0.5892466064507489\n",
            "Iteration 800, Error: 0.5462564263572044\n",
            "Iteration 900, Error: 0.5101617535861047\n"
          ]
        }
      ],
      "source": [
        "# Initialize weights and biases\n",
        "W0 = np.random.randn(4, 3) * 0.01\n",
        "W1 = np.random.randn(3, 4) * 0.01\n",
        "W = [W0, W1]\n",
        "\n",
        "B0 = np.zeros((4, 1))\n",
        "B1 = np.zeros((3, 1))\n",
        "B = [B0, B1]\n",
        "\n",
        "# Create data X\n",
        "X = np.array([\n",
        "    [0.5, 2, 3],\n",
        "    [4, 2, 1.2],\n",
        "    [1.3, 0, 5.6],\n",
        "    [1.9, 3.9, 4.6]\n",
        "])\n",
        "\n",
        "model = autoencoder(W, B)\n",
        "\n",
        "# Train the model\n",
        "model.backpropagate(X, lr=0.01, max_iter=1000)"
      ]
    },
    {
      "cell_type": "markdown",
      "metadata": {
        "id": "HAc65OeyGxf1"
      },
      "source": [
        "![loss_function_used_here.png](data:image/png;base64,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)"
      ]
    },
    {
      "cell_type": "code",
      "execution_count": 21,
      "metadata": {
        "colab": {
          "base_uri": "https://localhost:8080/"
        },
        "id": "dZV1dM5kPTsB",
        "outputId": "015e37b6-3a1a-4777-cfa9-4a043d87af11"
      },
      "outputs": [
        {
          "name": "stdout",
          "output_type": "stream",
          "text": [
            "[array([[-0.7281066 ,  0.18484214,  0.79701972],\n",
            "       [ 1.12458861,  0.9012613 , -0.73844948],\n",
            "       [-0.77330407,  0.10468339,  0.92561552],\n",
            "       [-0.75671907, -0.9256443 ,  0.60316267]]), array([[-0.58030721,  1.1846967 , -0.821962  , -0.79768565],\n",
            "       [ 0.69194681,  1.94051947,  0.52471862, -1.38651445],\n",
            "       [ 1.59114229,  0.57147991,  1.69647761,  1.99212815]])]\n",
            "[array([[-0.47563004],\n",
            "       [-0.627729  ],\n",
            "       [-0.44817336],\n",
            "       [-0.57915528]]), array([[2.47605469],\n",
            "       [0.48952291],\n",
            "       [0.31189485]])]\n"
          ]
        }
      ],
      "source": [
        "print(model.W)\n",
        "print(model.B)"
      ]
    },
    {
      "cell_type": "code",
      "execution_count": 23,
      "metadata": {
        "colab": {
          "base_uri": "https://localhost:8080/"
        },
        "id": "9Yp_ojxxO2HR",
        "outputId": "8e49e389-550d-4e48-8062-e6494f4aa2db"
      },
      "outputs": [
        {
          "name": "stdout",
          "output_type": "stream",
          "text": [
            "[[0.5 2.  3. ]\n",
            " [4.  2.  1.2]\n",
            " [1.3 0.  5.6]\n",
            " [1.9 3.9 4.6]]\n"
          ]
        }
      ],
      "source": [
        "print(X)"
      ]
    },
    {
      "cell_type": "code",
      "execution_count": 25,
      "metadata": {
        "colab": {
          "base_uri": "https://localhost:8080/"
        },
        "id": "LHDuSopcO4ty",
        "outputId": "abf72fd0-2d17-4852-cc8d-adaba3f89b6e"
      },
      "outputs": [
        {
          "name": "stdout",
          "output_type": "stream",
          "text": [
            "[array([[1.47226711],\n",
            "       [1.9326073 ],\n",
            "       [3.9741993 ]]), array([[3.4980796 ],\n",
            "       [2.53134186],\n",
            "       [1.24158918]]), array([[0.47564043],\n",
            "       [0.53897036],\n",
            "       [5.22063062]]), array([[2.11273356],\n",
            "       [3.16964915],\n",
            "       [3.96615901]])]\n"
          ]
        }
      ],
      "source": [
        "X_hat , A1, H0, A0 = model.forward(X)\n",
        "print(X_hat)"
      ]
    }
  ],
  "metadata": {
    "colab": {
      "provenance": []
    },
    "kernelspec": {
      "display_name": "Python 3",
      "name": "python3"
    },
    "language_info": {
      "name": "python"
    }
  },
  "nbformat": 4,
  "nbformat_minor": 0
}
